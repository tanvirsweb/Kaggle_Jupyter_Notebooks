{
 "cells": [
  {
   "cell_type": "markdown",
   "id": "c57a273d",
   "metadata": {
    "papermill": {
     "duration": 0.005296,
     "end_time": "2024-12-22T16:48:13.280007",
     "exception": false,
     "start_time": "2024-12-22T16:48:13.274711",
     "status": "completed"
    },
    "tags": []
   },
   "source": [
    "# ML Data Processing"
   ]
  },
  {
   "cell_type": "code",
   "execution_count": 1,
   "id": "0208308b",
   "metadata": {
    "execution": {
     "iopub.execute_input": "2024-12-22T16:48:13.290572Z",
     "iopub.status.busy": "2024-12-22T16:48:13.290214Z",
     "iopub.status.idle": "2024-12-22T16:48:13.981399Z",
     "shell.execute_reply": "2024-12-22T16:48:13.980488Z"
    },
    "papermill": {
     "duration": 0.698106,
     "end_time": "2024-12-22T16:48:13.982790",
     "exception": false,
     "start_time": "2024-12-22T16:48:13.284684",
     "status": "completed"
    },
    "tags": []
   },
   "outputs": [
    {
     "data": {
      "text/html": [
       "<div>\n",
       "<style scoped>\n",
       "    .dataframe tbody tr th:only-of-type {\n",
       "        vertical-align: middle;\n",
       "    }\n",
       "\n",
       "    .dataframe tbody tr th {\n",
       "        vertical-align: top;\n",
       "    }\n",
       "\n",
       "    .dataframe thead th {\n",
       "        text-align: right;\n",
       "    }\n",
       "</style>\n",
       "<table border=\"1\" class=\"dataframe\">\n",
       "  <thead>\n",
       "    <tr style=\"text-align: right;\">\n",
       "      <th></th>\n",
       "      <th>PassengerId</th>\n",
       "      <th>Survived</th>\n",
       "      <th>Pclass</th>\n",
       "      <th>Name</th>\n",
       "      <th>Sex</th>\n",
       "      <th>Age</th>\n",
       "      <th>SibSp</th>\n",
       "      <th>Parch</th>\n",
       "      <th>Ticket</th>\n",
       "      <th>Fare</th>\n",
       "      <th>Cabin</th>\n",
       "      <th>Embarked</th>\n",
       "    </tr>\n",
       "  </thead>\n",
       "  <tbody>\n",
       "    <tr>\n",
       "      <th>0</th>\n",
       "      <td>1</td>\n",
       "      <td>0</td>\n",
       "      <td>3</td>\n",
       "      <td>Braund, Mr. Owen Harris</td>\n",
       "      <td>male</td>\n",
       "      <td>22.0</td>\n",
       "      <td>1</td>\n",
       "      <td>0</td>\n",
       "      <td>A/5 21171</td>\n",
       "      <td>7.2500</td>\n",
       "      <td>NaN</td>\n",
       "      <td>S</td>\n",
       "    </tr>\n",
       "    <tr>\n",
       "      <th>1</th>\n",
       "      <td>2</td>\n",
       "      <td>1</td>\n",
       "      <td>1</td>\n",
       "      <td>Cumings, Mrs. John Bradley (Florence Briggs Th...</td>\n",
       "      <td>female</td>\n",
       "      <td>38.0</td>\n",
       "      <td>1</td>\n",
       "      <td>0</td>\n",
       "      <td>PC 17599</td>\n",
       "      <td>71.2833</td>\n",
       "      <td>C85</td>\n",
       "      <td>C</td>\n",
       "    </tr>\n",
       "    <tr>\n",
       "      <th>2</th>\n",
       "      <td>3</td>\n",
       "      <td>1</td>\n",
       "      <td>3</td>\n",
       "      <td>Heikkinen, Miss. Laina</td>\n",
       "      <td>female</td>\n",
       "      <td>26.0</td>\n",
       "      <td>0</td>\n",
       "      <td>0</td>\n",
       "      <td>STON/O2. 3101282</td>\n",
       "      <td>7.9250</td>\n",
       "      <td>NaN</td>\n",
       "      <td>S</td>\n",
       "    </tr>\n",
       "    <tr>\n",
       "      <th>3</th>\n",
       "      <td>4</td>\n",
       "      <td>1</td>\n",
       "      <td>1</td>\n",
       "      <td>Futrelle, Mrs. Jacques Heath (Lily May Peel)</td>\n",
       "      <td>female</td>\n",
       "      <td>35.0</td>\n",
       "      <td>1</td>\n",
       "      <td>0</td>\n",
       "      <td>113803</td>\n",
       "      <td>53.1000</td>\n",
       "      <td>C123</td>\n",
       "      <td>S</td>\n",
       "    </tr>\n",
       "    <tr>\n",
       "      <th>4</th>\n",
       "      <td>5</td>\n",
       "      <td>0</td>\n",
       "      <td>3</td>\n",
       "      <td>Allen, Mr. William Henry</td>\n",
       "      <td>male</td>\n",
       "      <td>35.0</td>\n",
       "      <td>0</td>\n",
       "      <td>0</td>\n",
       "      <td>373450</td>\n",
       "      <td>8.0500</td>\n",
       "      <td>NaN</td>\n",
       "      <td>S</td>\n",
       "    </tr>\n",
       "  </tbody>\n",
       "</table>\n",
       "</div>"
      ],
      "text/plain": [
       "   PassengerId  Survived  Pclass  \\\n",
       "0            1         0       3   \n",
       "1            2         1       1   \n",
       "2            3         1       3   \n",
       "3            4         1       1   \n",
       "4            5         0       3   \n",
       "\n",
       "                                                Name     Sex   Age  SibSp  \\\n",
       "0                            Braund, Mr. Owen Harris    male  22.0      1   \n",
       "1  Cumings, Mrs. John Bradley (Florence Briggs Th...  female  38.0      1   \n",
       "2                             Heikkinen, Miss. Laina  female  26.0      0   \n",
       "3       Futrelle, Mrs. Jacques Heath (Lily May Peel)  female  35.0      1   \n",
       "4                           Allen, Mr. William Henry    male  35.0      0   \n",
       "\n",
       "   Parch            Ticket     Fare Cabin Embarked  \n",
       "0      0         A/5 21171   7.2500   NaN        S  \n",
       "1      0          PC 17599  71.2833   C85        C  \n",
       "2      0  STON/O2. 3101282   7.9250   NaN        S  \n",
       "3      0            113803  53.1000  C123        S  \n",
       "4      0            373450   8.0500   NaN        S  "
      ]
     },
     "execution_count": 1,
     "metadata": {},
     "output_type": "execute_result"
    }
   ],
   "source": [
    "import pandas as pd\n",
    "import numpy as np\n",
    "\n",
    "# Load the dataset\n",
    "df = pd.read_csv('/kaggle/input/titaniccsv/titanic.csv')\n",
    "df.head()"
   ]
  },
  {
   "cell_type": "markdown",
   "id": "a8346d96",
   "metadata": {
    "papermill": {
     "duration": 0.00472,
     "end_time": "2024-12-22T16:48:13.992463",
     "exception": false,
     "start_time": "2024-12-22T16:48:13.987743",
     "status": "completed"
    },
    "tags": []
   },
   "source": [
    "## See Duplicates"
   ]
  },
  {
   "cell_type": "code",
   "execution_count": 2,
   "id": "81c3f334",
   "metadata": {
    "execution": {
     "iopub.execute_input": "2024-12-22T16:48:14.002769Z",
     "iopub.status.busy": "2024-12-22T16:48:14.002462Z",
     "iopub.status.idle": "2024-12-22T16:48:14.017901Z",
     "shell.execute_reply": "2024-12-22T16:48:14.016910Z"
    },
    "papermill": {
     "duration": 0.022107,
     "end_time": "2024-12-22T16:48:14.019200",
     "exception": false,
     "start_time": "2024-12-22T16:48:13.997093",
     "status": "completed"
    },
    "tags": []
   },
   "outputs": [
    {
     "data": {
      "text/plain": [
       "0      False\n",
       "1      False\n",
       "2      False\n",
       "3      False\n",
       "4      False\n",
       "       ...  \n",
       "886    False\n",
       "887    False\n",
       "888    False\n",
       "889    False\n",
       "890    False\n",
       "Length: 891, dtype: bool"
      ]
     },
     "execution_count": 2,
     "metadata": {},
     "output_type": "execute_result"
    }
   ],
   "source": [
    "df.duplicated()"
   ]
  },
  {
   "cell_type": "markdown",
   "id": "3530f7d5",
   "metadata": {
    "papermill": {
     "duration": 0.00461,
     "end_time": "2024-12-22T16:48:14.028697",
     "exception": false,
     "start_time": "2024-12-22T16:48:14.024087",
     "status": "completed"
    },
    "tags": []
   },
   "source": [
    "### Data Information"
   ]
  },
  {
   "cell_type": "code",
   "execution_count": 3,
   "id": "4f749c4d",
   "metadata": {
    "execution": {
     "iopub.execute_input": "2024-12-22T16:48:14.039186Z",
     "iopub.status.busy": "2024-12-22T16:48:14.038920Z",
     "iopub.status.idle": "2024-12-22T16:48:14.054043Z",
     "shell.execute_reply": "2024-12-22T16:48:14.053039Z"
    },
    "papermill": {
     "duration": 0.022163,
     "end_time": "2024-12-22T16:48:14.055465",
     "exception": false,
     "start_time": "2024-12-22T16:48:14.033302",
     "status": "completed"
    },
    "tags": []
   },
   "outputs": [
    {
     "name": "stdout",
     "output_type": "stream",
     "text": [
      "<class 'pandas.core.frame.DataFrame'>\n",
      "RangeIndex: 891 entries, 0 to 890\n",
      "Data columns (total 12 columns):\n",
      " #   Column       Non-Null Count  Dtype  \n",
      "---  ------       --------------  -----  \n",
      " 0   PassengerId  891 non-null    int64  \n",
      " 1   Survived     891 non-null    int64  \n",
      " 2   Pclass       891 non-null    int64  \n",
      " 3   Name         891 non-null    object \n",
      " 4   Sex          891 non-null    object \n",
      " 5   Age          714 non-null    float64\n",
      " 6   SibSp        891 non-null    int64  \n",
      " 7   Parch        891 non-null    int64  \n",
      " 8   Ticket       891 non-null    object \n",
      " 9   Fare         891 non-null    float64\n",
      " 10  Cabin        204 non-null    object \n",
      " 11  Embarked     889 non-null    object \n",
      "dtypes: float64(2), int64(5), object(5)\n",
      "memory usage: 83.7+ KB\n"
     ]
    }
   ],
   "source": [
    "df.info()"
   ]
  },
  {
   "cell_type": "markdown",
   "id": "732f9b8c",
   "metadata": {
    "papermill": {
     "duration": 0.004672,
     "end_time": "2024-12-22T16:48:14.065672",
     "exception": false,
     "start_time": "2024-12-22T16:48:14.061000",
     "status": "completed"
    },
    "tags": []
   },
   "source": [
    "### Categorical & Numerical columns"
   ]
  },
  {
   "cell_type": "code",
   "execution_count": 4,
   "id": "478fd1da",
   "metadata": {
    "execution": {
     "iopub.execute_input": "2024-12-22T16:48:14.076699Z",
     "iopub.status.busy": "2024-12-22T16:48:14.076363Z",
     "iopub.status.idle": "2024-12-22T16:48:14.081848Z",
     "shell.execute_reply": "2024-12-22T16:48:14.081013Z"
    },
    "papermill": {
     "duration": 0.012533,
     "end_time": "2024-12-22T16:48:14.083171",
     "exception": false,
     "start_time": "2024-12-22T16:48:14.070638",
     "status": "completed"
    },
    "tags": []
   },
   "outputs": [
    {
     "name": "stdout",
     "output_type": "stream",
     "text": [
      "Categorical columns : ['Name', 'Sex', 'Ticket', 'Cabin', 'Embarked']\n",
      "Numerical columns : ['PassengerId', 'Survived', 'Pclass', 'Age', 'SibSp', 'Parch', 'Fare']\n"
     ]
    }
   ],
   "source": [
    "cat_col = [col for col in df.columns if df[col].dtype == 'object']\n",
    "print('Categorical columns :',cat_col)\n",
    "# Numerical columns\n",
    "num_col = [col for col in df.columns if df[col].dtype != 'object']\n",
    "print('Numerical columns :',num_col)"
   ]
  },
  {
   "cell_type": "markdown",
   "id": "84d4f20c",
   "metadata": {
    "papermill": {
     "duration": 0.004685,
     "end_time": "2024-12-22T16:48:14.092881",
     "exception": false,
     "start_time": "2024-12-22T16:48:14.088196",
     "status": "completed"
    },
    "tags": []
   },
   "source": [
    "## Number of Unique values in categorical columns: nunique()"
   ]
  },
  {
   "cell_type": "code",
   "execution_count": 5,
   "id": "c1e400eb",
   "metadata": {
    "execution": {
     "iopub.execute_input": "2024-12-22T16:48:14.103808Z",
     "iopub.status.busy": "2024-12-22T16:48:14.103459Z",
     "iopub.status.idle": "2024-12-22T16:48:14.112188Z",
     "shell.execute_reply": "2024-12-22T16:48:14.111434Z"
    },
    "papermill": {
     "duration": 0.015669,
     "end_time": "2024-12-22T16:48:14.113475",
     "exception": false,
     "start_time": "2024-12-22T16:48:14.097806",
     "status": "completed"
    },
    "tags": []
   },
   "outputs": [
    {
     "data": {
      "text/plain": [
       "Name        891\n",
       "Sex           2\n",
       "Ticket      681\n",
       "Cabin       147\n",
       "Embarked      3\n",
       "dtype: int64"
      ]
     },
     "execution_count": 5,
     "metadata": {},
     "output_type": "execute_result"
    }
   ],
   "source": [
    "df[cat_col].nunique()"
   ]
  },
  {
   "cell_type": "markdown",
   "id": "83fff331",
   "metadata": {
    "papermill": {
     "duration": 0.004981,
     "end_time": "2024-12-22T16:48:14.123662",
     "exception": false,
     "start_time": "2024-12-22T16:48:14.118681",
     "status": "completed"
    },
    "tags": []
   },
   "source": [
    "## Removal of all Above Unwanted Observations\n",
    "- This includes deleting duplicate/ redundant or irrelevant values from your dataset. Duplicate observations most frequently arise during data collection and Irrelevant observations are those that don’t actually fit the specific problem that you’re trying to solve. \n",
    "\n",
    "- Redundant observations alter the efficiency to a great extent as the data repeats and may add towards the correct side or towards the incorrect side, thereby producing unfaithful results.\n",
    "Irrelevant observations are any type of data that is of no use to us and can be removed directly.\n",
    "Now we have to make a decision according to the subject of analysis, which factor is important for our discussion.\n",
    "\n",
    "- As we know our machines don’t understand the text data. So, we have to either drop or convert the categorical column values into numerical types. Here we are dropping the Name columns because the Name will be always unique and it hasn’t a great influence on target variables. For the ticket, Let’s first print the 50 unique tickets."
   ]
  },
  {
   "cell_type": "code",
   "execution_count": 6,
   "id": "1602c8a3",
   "metadata": {
    "execution": {
     "iopub.execute_input": "2024-12-22T16:48:14.134851Z",
     "iopub.status.busy": "2024-12-22T16:48:14.134504Z",
     "iopub.status.idle": "2024-12-22T16:48:14.139849Z",
     "shell.execute_reply": "2024-12-22T16:48:14.138973Z"
    },
    "papermill": {
     "duration": 0.012519,
     "end_time": "2024-12-22T16:48:14.141177",
     "exception": false,
     "start_time": "2024-12-22T16:48:14.128658",
     "status": "completed"
    },
    "tags": []
   },
   "outputs": [
    {
     "data": {
      "text/plain": [
       "array(['A/5 21171', 'PC 17599', 'STON/O2. 3101282', '113803', '373450',\n",
       "       '330877', '17463', '349909', '347742', '237736', 'PP 9549',\n",
       "       '113783', 'A/5. 2151', '347082', '350406', '248706', '382652',\n",
       "       '244373', '345763', '2649', '239865', '248698', '330923', '113788',\n",
       "       '347077', '2631', '19950', '330959', '349216', 'PC 17601',\n",
       "       'PC 17569', '335677', 'C.A. 24579', 'PC 17604', '113789', '2677',\n",
       "       'A./5. 2152', '345764', '2651', '7546', '11668', '349253',\n",
       "       'SC/Paris 2123', '330958', 'S.C./A.4. 23567', '370371', '14311',\n",
       "       '2662', '349237', '3101295'], dtype=object)"
      ]
     },
     "execution_count": 6,
     "metadata": {},
     "output_type": "execute_result"
    }
   ],
   "source": [
    "df['Ticket'].unique()[:50]"
   ]
  },
  {
   "cell_type": "markdown",
   "id": "830b11ee",
   "metadata": {
    "papermill": {
     "duration": 0.00492,
     "end_time": "2024-12-22T16:48:14.151394",
     "exception": false,
     "start_time": "2024-12-22T16:48:14.146474",
     "status": "completed"
    },
    "tags": []
   },
   "source": [
    "From the above tickets, we can observe that it is made of two like first values ‘A/5 21171’ is joint from of ‘A/5’ and  ‘21171’ this may influence our target variables. It will the case of Feature Engineering. where we derived new features from a column or a group of columns. In the current case, we are dropping the “Name” and “Ticket” columns.\n",
    "\n",
    "## Drop Name and Ticket Columns"
   ]
  },
  {
   "cell_type": "code",
   "execution_count": 7,
   "id": "70181562",
   "metadata": {
    "execution": {
     "iopub.execute_input": "2024-12-22T16:48:14.162119Z",
     "iopub.status.busy": "2024-12-22T16:48:14.161867Z",
     "iopub.status.idle": "2024-12-22T16:48:14.168354Z",
     "shell.execute_reply": "2024-12-22T16:48:14.167704Z"
    },
    "papermill": {
     "duration": 0.013204,
     "end_time": "2024-12-22T16:48:14.169484",
     "exception": false,
     "start_time": "2024-12-22T16:48:14.156280",
     "status": "completed"
    },
    "tags": []
   },
   "outputs": [
    {
     "data": {
      "text/plain": [
       "(891, 10)"
      ]
     },
     "execution_count": 7,
     "metadata": {},
     "output_type": "execute_result"
    }
   ],
   "source": [
    "df1 = df.drop(columns=['Name','Ticket'])\n",
    "df1.shape"
   ]
  },
  {
   "cell_type": "markdown",
   "id": "bff1d92a",
   "metadata": {
    "papermill": {
     "duration": 0.004925,
     "end_time": "2024-12-22T16:48:14.179602",
     "exception": false,
     "start_time": "2024-12-22T16:48:14.174677",
     "status": "completed"
    },
    "tags": []
   },
   "source": [
    "## Handling Missing Data\n",
    "- Missing data is a common issue in real-world datasets, and it can occur due to various reasons such as human errors, system failures, or data collection issues. Various techniques can be used to handle missing data, such as `imputation, deletion, or substitution`.\n",
    "\n",
    "- Let’s check the % missing values columns-wise for each row using `df.isnull()` it checks whether the values are null or not and gives returns `boolean` values. and .sum() will `sum the total number of null values rows` and we divide it by the total number of rows present in the dataset then we multiply to get values in % i.e per 100 values how much values are null."
   ]
  },
  {
   "cell_type": "code",
   "execution_count": 8,
   "id": "c4bbea41",
   "metadata": {
    "execution": {
     "iopub.execute_input": "2024-12-22T16:48:14.190942Z",
     "iopub.status.busy": "2024-12-22T16:48:14.190646Z",
     "iopub.status.idle": "2024-12-22T16:48:14.197606Z",
     "shell.execute_reply": "2024-12-22T16:48:14.196833Z"
    },
    "papermill": {
     "duration": 0.014213,
     "end_time": "2024-12-22T16:48:14.198958",
     "exception": false,
     "start_time": "2024-12-22T16:48:14.184745",
     "status": "completed"
    },
    "tags": []
   },
   "outputs": [
    {
     "data": {
      "text/plain": [
       "PassengerId     0.00\n",
       "Survived        0.00\n",
       "Pclass          0.00\n",
       "Sex             0.00\n",
       "Age            19.87\n",
       "SibSp           0.00\n",
       "Parch           0.00\n",
       "Fare            0.00\n",
       "Cabin          77.10\n",
       "Embarked        0.22\n",
       "dtype: float64"
      ]
     },
     "execution_count": 8,
     "metadata": {},
     "output_type": "execute_result"
    }
   ],
   "source": [
    "round((df1.isnull().sum()/df1.shape[0])*100,2)"
   ]
  },
  {
   "cell_type": "markdown",
   "id": "f5b2d919",
   "metadata": {
    "papermill": {
     "duration": 0.005027,
     "end_time": "2024-12-22T16:48:14.209312",
     "exception": false,
     "start_time": "2024-12-22T16:48:14.204285",
     "status": "completed"
    },
    "tags": []
   },
   "source": [
    "- We cannot just ignore or remove the missing observation. They must be handled carefully as they can be an indication of something important. \n",
    "\n",
    "## The two most common ways to deal with missing data are:\n",
    "- `Dropping Observations` with `missing` values.\n",
    "- The fact that the value was missing may be `informative in itself`.\n",
    "- Plus, in the real world, you often need to make predictions on new data even if some of the features are missing!\n",
    "- As we can see from the above result that Cabin has 77% null values and Age has 19.87% and Embarked has 0.22% of null values.\n",
    "\n",
    "- So, it’s `not a good` idea to `fill 77% of null` values. So, we will drop the Cabin column. Embarked column has only 0.22% of null values so, we `drop the null values rows` of Embarked column."
   ]
  },
  {
   "cell_type": "code",
   "execution_count": 9,
   "id": "a96a45a9",
   "metadata": {
    "execution": {
     "iopub.execute_input": "2024-12-22T16:48:14.220629Z",
     "iopub.status.busy": "2024-12-22T16:48:14.220277Z",
     "iopub.status.idle": "2024-12-22T16:48:14.227982Z",
     "shell.execute_reply": "2024-12-22T16:48:14.226962Z"
    },
    "papermill": {
     "duration": 0.014814,
     "end_time": "2024-12-22T16:48:14.229217",
     "exception": false,
     "start_time": "2024-12-22T16:48:14.214403",
     "status": "completed"
    },
    "tags": []
   },
   "outputs": [
    {
     "name": "stdout",
     "output_type": "stream",
     "text": [
      "df1.shape:(891, 10)\n",
      "df2.shape:(889, 9)\n"
     ]
    }
   ],
   "source": [
    "print(f\"df1.shape:{df1.shape}\")\n",
    "# drop column Cabin\n",
    "df2 = df1.drop(columns='Cabin')\n",
    "\n",
    "# Drop rows in which Embarked field is null (drop-na)\n",
    "df2.dropna(subset=['Embarked'], axis=0, inplace=True)\n",
    "\n",
    "print(f\"df2.shape:{df2.shape}\")"
   ]
  },
  {
   "cell_type": "markdown",
   "id": "00f91eaa",
   "metadata": {
    "papermill": {
     "duration": 0.005128,
     "end_time": "2024-12-22T16:48:14.239819",
     "exception": false,
     "start_time": "2024-12-22T16:48:14.234691",
     "status": "completed"
    },
    "tags": []
   },
   "source": [
    "- dropna() is used to remove rows or columns with missing values (NaN)\n",
    "- while fillna() is used to fill those missing values with a specified value or method.\n",
    "- The dropna() method without any parameters removes all rows containing any missing values (NaN) across all columns."
   ]
  },
  {
   "cell_type": "markdown",
   "id": "30379bd5",
   "metadata": {
    "papermill": {
     "duration": 0.005136,
     "end_time": "2024-12-22T16:48:14.250224",
     "exception": false,
     "start_time": "2024-12-22T16:48:14.245088",
     "status": "completed"
    },
    "tags": []
   },
   "source": [
    "```py\n",
    "# importing pandas package\n",
    "import pandas as pd\n",
    "\n",
    "# making data frame from csv file\n",
    "data = pd.read_csv(\"nba.csv\")\n",
    "\n",
    "# sorting dataframe\n",
    "data.sort_values(\"Team\", inplace=True)\n",
    "\n",
    "# making boolean series for a team name\n",
    "filter1 = data[\"Team\"] == \"Atlanta Hawks\"\n",
    "\n",
    "# making boolean series for age\n",
    "filter2 = data[\"Age\"] > 24\n",
    "\n",
    "# filtering data on basis of both filters\n",
    "data.where(filter1 & filter2, inplace=True)\n",
    "\n",
    "# display\n",
    "data\n",
    "\n",
    "```"
   ]
  },
  {
   "cell_type": "markdown",
   "id": "192c48d3",
   "metadata": {
    "papermill": {
     "duration": 0.005034,
     "end_time": "2024-12-22T16:48:14.261597",
     "exception": false,
     "start_time": "2024-12-22T16:48:14.256563",
     "status": "completed"
    },
    "tags": []
   },
   "source": [
    "## Imputing the missing values from past observations\n",
    "- Again, `missingness` is almost always informative in itself, and you should tell your algorithm if a value was missing.\n",
    "- Even if you build a model to impute your values, you’re not adding any real information. You’re just reinforcing the patterns already provided by other features.\n",
    "- We can use Mean imputation or Median imputations for the case.\n",
    "\n",
    "- Note: \n",
    "\n",
    "- `Mean imputation` is suitable when the data is `normally distributed` and has `no extreme outliers`.\n",
    "- `Median imputation` is preferable when the data contains `outliers or is skewed`."
   ]
  },
  {
   "cell_type": "markdown",
   "id": "733184f1",
   "metadata": {
    "papermill": {
     "duration": 0.005161,
     "end_time": "2024-12-22T16:48:14.272068",
     "exception": false,
     "start_time": "2024-12-22T16:48:14.266907",
     "status": "completed"
    },
    "tags": []
   },
   "source": [
    "## Mean imputation"
   ]
  },
  {
   "cell_type": "code",
   "execution_count": 10,
   "id": "56bf91c4",
   "metadata": {
    "execution": {
     "iopub.execute_input": "2024-12-22T16:48:14.283977Z",
     "iopub.status.busy": "2024-12-22T16:48:14.283610Z",
     "iopub.status.idle": "2024-12-22T16:48:14.301062Z",
     "shell.execute_reply": "2024-12-22T16:48:14.300187Z"
    },
    "papermill": {
     "duration": 0.025174,
     "end_time": "2024-12-22T16:48:14.302375",
     "exception": false,
     "start_time": "2024-12-22T16:48:14.277201",
     "status": "completed"
    },
    "tags": []
   },
   "outputs": [
    {
     "name": "stdout",
     "output_type": "stream",
     "text": [
      "   PassengerId  Survived  Pclass    Sex    Age  SibSp  Parch   Fare  Embarked\n",
      "0        False     False   False  False  False  False  False  False     False\n",
      "1        False     False   False  False  False  False  False  False     False\n",
      "2        False     False   False  False  False  False  False  False     False\n",
      "3        False     False   False  False  False  False  False  False     False\n",
      "4        False     False   False  False  False  False  False  False     False\n"
     ]
    },
    {
     "data": {
      "text/html": [
       "<div>\n",
       "<style scoped>\n",
       "    .dataframe tbody tr th:only-of-type {\n",
       "        vertical-align: middle;\n",
       "    }\n",
       "\n",
       "    .dataframe tbody tr th {\n",
       "        vertical-align: top;\n",
       "    }\n",
       "\n",
       "    .dataframe thead th {\n",
       "        text-align: right;\n",
       "    }\n",
       "</style>\n",
       "<table border=\"1\" class=\"dataframe\">\n",
       "  <thead>\n",
       "    <tr style=\"text-align: right;\">\n",
       "      <th></th>\n",
       "      <th>PassengerId</th>\n",
       "      <th>Survived</th>\n",
       "      <th>Pclass</th>\n",
       "      <th>Sex</th>\n",
       "      <th>Age</th>\n",
       "      <th>SibSp</th>\n",
       "      <th>Parch</th>\n",
       "      <th>Fare</th>\n",
       "      <th>Embarked</th>\n",
       "    </tr>\n",
       "  </thead>\n",
       "  <tbody>\n",
       "    <tr>\n",
       "      <th>0</th>\n",
       "      <td>False</td>\n",
       "      <td>False</td>\n",
       "      <td>False</td>\n",
       "      <td>False</td>\n",
       "      <td>False</td>\n",
       "      <td>False</td>\n",
       "      <td>False</td>\n",
       "      <td>False</td>\n",
       "      <td>False</td>\n",
       "    </tr>\n",
       "    <tr>\n",
       "      <th>1</th>\n",
       "      <td>False</td>\n",
       "      <td>False</td>\n",
       "      <td>False</td>\n",
       "      <td>False</td>\n",
       "      <td>False</td>\n",
       "      <td>False</td>\n",
       "      <td>False</td>\n",
       "      <td>False</td>\n",
       "      <td>False</td>\n",
       "    </tr>\n",
       "    <tr>\n",
       "      <th>2</th>\n",
       "      <td>False</td>\n",
       "      <td>False</td>\n",
       "      <td>False</td>\n",
       "      <td>False</td>\n",
       "      <td>False</td>\n",
       "      <td>False</td>\n",
       "      <td>False</td>\n",
       "      <td>False</td>\n",
       "      <td>False</td>\n",
       "    </tr>\n",
       "    <tr>\n",
       "      <th>3</th>\n",
       "      <td>False</td>\n",
       "      <td>False</td>\n",
       "      <td>False</td>\n",
       "      <td>False</td>\n",
       "      <td>False</td>\n",
       "      <td>False</td>\n",
       "      <td>False</td>\n",
       "      <td>False</td>\n",
       "      <td>False</td>\n",
       "    </tr>\n",
       "    <tr>\n",
       "      <th>4</th>\n",
       "      <td>False</td>\n",
       "      <td>False</td>\n",
       "      <td>False</td>\n",
       "      <td>False</td>\n",
       "      <td>False</td>\n",
       "      <td>False</td>\n",
       "      <td>False</td>\n",
       "      <td>False</td>\n",
       "      <td>False</td>\n",
       "    </tr>\n",
       "  </tbody>\n",
       "</table>\n",
       "</div>"
      ],
      "text/plain": [
       "   PassengerId  Survived  Pclass    Sex    Age  SibSp  Parch   Fare  Embarked\n",
       "0        False     False   False  False  False  False  False  False     False\n",
       "1        False     False   False  False  False  False  False  False     False\n",
       "2        False     False   False  False  False  False  False  False     False\n",
       "3        False     False   False  False  False  False  False  False     False\n",
       "4        False     False   False  False  False  False  False  False     False"
      ]
     },
     "metadata": {},
     "output_type": "display_data"
    },
    {
     "name": "stdout",
     "output_type": "stream",
     "text": [
      "PassengerId    0\n",
      "Survived       0\n",
      "Pclass         0\n",
      "Sex            0\n",
      "Age            0\n",
      "SibSp          0\n",
      "Parch          0\n",
      "Fare           0\n",
      "Embarked       0\n",
      "dtype: int64\n"
     ]
    }
   ],
   "source": [
    "# Mean imputation\n",
    "df3 = df2.fillna(df2.Age.mean())\n",
    "# Let's check the null values again\n",
    "\n",
    "print( df3.isnull().head() )\n",
    "display( df3.isnull().head() )\n",
    "print( df3.isnull().sum() )"
   ]
  },
  {
   "cell_type": "markdown",
   "id": "c2d78558",
   "metadata": {
    "papermill": {
     "duration": 0.005517,
     "end_time": "2024-12-22T16:48:14.313618",
     "exception": false,
     "start_time": "2024-12-22T16:48:14.308101",
     "status": "completed"
    },
    "tags": []
   },
   "source": [
    "## Handling Outliers\n",
    "- Outliers are extreme values that deviate significantly from the majority of the data. They can negatively impact the analysis and model performance. Techniques such as clustering, interpolation, or transformation can be used to handle outliers.\n",
    "\n",
    "- To check the outliers, We generally use a box plot. A box plot, also referred to as a box-and-whisker plot, is a graphical representation of a dataset’s distribution. It shows a variable’s median, quartiles, and potential outliers. The line inside the box denotes the median, while the box itself denotes the interquartile range (IQR). The whiskers extend to the most extreme non-outlier values within 1.5 times the IQR. Individual points beyond the whiskers are considered potential outliers. A box plot offers an easy-to-understand overview of the range of the data and makes it possible to identify outliers or skewness in the distribution.\n",
    "\n",
    "- Let’s plot the box plot for Age column data."
   ]
  },
  {
   "cell_type": "code",
   "execution_count": 11,
   "id": "651802fc",
   "metadata": {
    "execution": {
     "iopub.execute_input": "2024-12-22T16:48:14.325725Z",
     "iopub.status.busy": "2024-12-22T16:48:14.325392Z",
     "iopub.status.idle": "2024-12-22T16:48:14.469506Z",
     "shell.execute_reply": "2024-12-22T16:48:14.468411Z"
    },
    "papermill": {
     "duration": 0.152814,
     "end_time": "2024-12-22T16:48:14.472017",
     "exception": false,
     "start_time": "2024-12-22T16:48:14.319203",
     "status": "completed"
    },
    "tags": []
   },
   "outputs": [
    {
     "data": {
      "image/png": "[encoded data removed]",
      "text/plain": [
       "<Figure size 640x480 with 1 Axes>"
      ]
     },
     "metadata": {},
     "output_type": "display_data"
    }
   ],
   "source": [
    "import matplotlib.pyplot as plt\n",
    "\n",
    "plt.boxplot(df3['Age'], vert=False)\n",
    "plt.ylabel('Variable')\n",
    "plt.xlabel('Age')\n",
    "plt.title('Box Plot')\n",
    "plt.show()"
   ]
  },
  {
   "cell_type": "markdown",
   "id": "233df338",
   "metadata": {
    "papermill": {
     "duration": 0.016058,
     "end_time": "2024-12-22T16:48:14.505433",
     "exception": false,
     "start_time": "2024-12-22T16:48:14.489375",
     "status": "completed"
    },
    "tags": []
   },
   "source": [
    "As we can see from the above Box and whisker plot, Our age dataset has outliers values. The values less than 5 and more than 55 are outliers."
   ]
  },
  {
   "cell_type": "code",
   "execution_count": 12,
   "id": "f5833626",
   "metadata": {
    "execution": {
     "iopub.execute_input": "2024-12-22T16:48:14.518060Z",
     "iopub.status.busy": "2024-12-22T16:48:14.517778Z",
     "iopub.status.idle": "2024-12-22T16:48:14.524815Z",
     "shell.execute_reply": "2024-12-22T16:48:14.524089Z"
    },
    "papermill": {
     "duration": 0.014915,
     "end_time": "2024-12-22T16:48:14.526286",
     "exception": false,
     "start_time": "2024-12-22T16:48:14.511371",
     "status": "completed"
    },
    "tags": []
   },
   "outputs": [
    {
     "name": "stdout",
     "output_type": "stream",
     "text": [
      "Lower Bound : 3.7054001079256587\n",
      "Upper Bound : 55.57878528533277\n"
     ]
    }
   ],
   "source": [
    "# calculate summary statistics\n",
    "mean = df3['Age'].mean()\n",
    "std  = df3['Age'].std()\n",
    "\n",
    "# Calculate the lower and upper bounds\n",
    "lower_bound = mean - std*2\n",
    "upper_bound = mean + std*2\n",
    "\n",
    "print('Lower Bound :',lower_bound)\n",
    "print('Upper Bound :',upper_bound)\n",
    "\n",
    "# Drop the outliers\n",
    "df4 = df3[(df3['Age'] >= lower_bound) \n",
    "                & (df3['Age'] <= upper_bound)]"
   ]
  },
  {
   "cell_type": "markdown",
   "id": "77cca396",
   "metadata": {
    "papermill": {
     "duration": 0.005676,
     "end_time": "2024-12-22T16:48:14.538453",
     "exception": false,
     "start_time": "2024-12-22T16:48:14.532777",
     "status": "completed"
    },
    "tags": []
   },
   "source": [
    "## Similarly, we can remove the outliers of the remaining columns.\n",
    "\n",
    "### Data Transformation \n",
    "Data transformation involves converting the data from one form to another to make it more suitable for analysis. Techniques such as normalization, scaling, or encoding can be used to transform the data.\n",
    "\n",
    "### Data validation and verification\n",
    "Data validation and verification involve ensuring that the data is accurate and consistent by comparing it with external sources or expert knowledge. \n",
    "\n",
    "<br>\n",
    "For the machine learning prediction, First, we separate independent and target features. Here we will consider only ‘Sex’ ‘Age’ ‘SibSp’, ‘Parch’ ‘Fare’ ‘Embarked’ only as the independent features and Survived as target variables. Because PassengerId will not affect the survival rate."
   ]
  },
  {
   "cell_type": "code",
   "execution_count": 13,
   "id": "3edfb5ef",
   "metadata": {
    "execution": {
     "iopub.execute_input": "2024-12-22T16:48:14.551226Z",
     "iopub.status.busy": "2024-12-22T16:48:14.550940Z",
     "iopub.status.idle": "2024-12-22T16:48:14.563342Z",
     "shell.execute_reply": "2024-12-22T16:48:14.562641Z"
    },
    "papermill": {
     "duration": 0.020507,
     "end_time": "2024-12-22T16:48:14.564715",
     "exception": false,
     "start_time": "2024-12-22T16:48:14.544208",
     "status": "completed"
    },
    "tags": []
   },
   "outputs": [
    {
     "data": {
      "text/html": [
       "<div>\n",
       "<style scoped>\n",
       "    .dataframe tbody tr th:only-of-type {\n",
       "        vertical-align: middle;\n",
       "    }\n",
       "\n",
       "    .dataframe tbody tr th {\n",
       "        vertical-align: top;\n",
       "    }\n",
       "\n",
       "    .dataframe thead th {\n",
       "        text-align: right;\n",
       "    }\n",
       "</style>\n",
       "<table border=\"1\" class=\"dataframe\">\n",
       "  <thead>\n",
       "    <tr style=\"text-align: right;\">\n",
       "      <th></th>\n",
       "      <th>Pclass</th>\n",
       "      <th>Sex</th>\n",
       "      <th>Age</th>\n",
       "      <th>SibSp</th>\n",
       "      <th>Parch</th>\n",
       "      <th>Fare</th>\n",
       "      <th>Embarked</th>\n",
       "    </tr>\n",
       "  </thead>\n",
       "  <tbody>\n",
       "    <tr>\n",
       "      <th>0</th>\n",
       "      <td>3</td>\n",
       "      <td>male</td>\n",
       "      <td>22.0</td>\n",
       "      <td>1</td>\n",
       "      <td>0</td>\n",
       "      <td>7.2500</td>\n",
       "      <td>S</td>\n",
       "    </tr>\n",
       "    <tr>\n",
       "      <th>1</th>\n",
       "      <td>1</td>\n",
       "      <td>female</td>\n",
       "      <td>38.0</td>\n",
       "      <td>1</td>\n",
       "      <td>0</td>\n",
       "      <td>71.2833</td>\n",
       "      <td>C</td>\n",
       "    </tr>\n",
       "    <tr>\n",
       "      <th>2</th>\n",
       "      <td>3</td>\n",
       "      <td>female</td>\n",
       "      <td>26.0</td>\n",
       "      <td>0</td>\n",
       "      <td>0</td>\n",
       "      <td>7.9250</td>\n",
       "      <td>S</td>\n",
       "    </tr>\n",
       "    <tr>\n",
       "      <th>3</th>\n",
       "      <td>1</td>\n",
       "      <td>female</td>\n",
       "      <td>35.0</td>\n",
       "      <td>1</td>\n",
       "      <td>0</td>\n",
       "      <td>53.1000</td>\n",
       "      <td>S</td>\n",
       "    </tr>\n",
       "    <tr>\n",
       "      <th>4</th>\n",
       "      <td>3</td>\n",
       "      <td>male</td>\n",
       "      <td>35.0</td>\n",
       "      <td>0</td>\n",
       "      <td>0</td>\n",
       "      <td>8.0500</td>\n",
       "      <td>S</td>\n",
       "    </tr>\n",
       "  </tbody>\n",
       "</table>\n",
       "</div>"
      ],
      "text/plain": [
       "   Pclass     Sex   Age  SibSp  Parch     Fare Embarked\n",
       "0       3    male  22.0      1      0   7.2500        S\n",
       "1       1  female  38.0      1      0  71.2833        C\n",
       "2       3  female  26.0      0      0   7.9250        S\n",
       "3       1  female  35.0      1      0  53.1000        S\n",
       "4       3    male  35.0      0      0   8.0500        S"
      ]
     },
     "metadata": {},
     "output_type": "display_data"
    },
    {
     "data": {
      "text/plain": [
       "0    0\n",
       "1    1\n",
       "2    1\n",
       "3    1\n",
       "4    0\n",
       "Name: Survived, dtype: int64"
      ]
     },
     "metadata": {},
     "output_type": "display_data"
    }
   ],
   "source": [
    "X = df3[['Pclass','Sex','Age', 'SibSp','Parch','Fare','Embarked']]\n",
    "Y = df3['Survived']\n",
    "display( X.head() )\n",
    "display( Y.head() )"
   ]
  },
  {
   "cell_type": "markdown",
   "id": "63e8388a",
   "metadata": {
    "papermill": {
     "duration": 0.006022,
     "end_time": "2024-12-22T16:48:14.577350",
     "exception": false,
     "start_time": "2024-12-22T16:48:14.571328",
     "status": "completed"
    },
    "tags": []
   },
   "source": [
    "## Data formatting\n",
    "Data formatting involves converting the data into a standard format or structure that can be easily processed by the algorithms or models used for analysis. Here we will discuss commonly used data formatting techniques i.e. Scaling and Normalization.\n",
    "\n",
    "### Scaling\n",
    "\n",
    "Scaling involves transforming the values of features to a specific range. It maintains the shape of the original distribution while changing the scale.\n",
    "Particularly useful when features have different scales, and certain algorithms are sensitive to the magnitude of the features.\n",
    "Common scaling methods include Min-Max scaling and Standardization (Z-score scaling).\n",
    "\n",
    "### Min-Max Scaling: \n",
    "Min-Max scaling rescales the values to a specified range, typically between 0 and 1. It preserves the original distribution and ensures that the `minimum value maps to 0 and the maximum value maps to 1`.\n"
   ]
  },
  {
   "cell_type": "code",
   "execution_count": 14,
   "id": "73f248d5",
   "metadata": {
    "execution": {
     "iopub.execute_input": "2024-12-22T16:48:14.590769Z",
     "iopub.status.busy": "2024-12-22T16:48:14.590446Z",
     "iopub.status.idle": "2024-12-22T16:48:15.545893Z",
     "shell.execute_reply": "2024-12-22T16:48:15.544978Z"
    },
    "papermill": {
     "duration": 0.963774,
     "end_time": "2024-12-22T16:48:15.547378",
     "exception": false,
     "start_time": "2024-12-22T16:48:14.583604",
     "status": "completed"
    },
    "tags": []
   },
   "outputs": [
    {
     "name": "stderr",
     "output_type": "stream",
     "text": [
      "<ipython-input-14-4504e0c4e47a>:10: SettingWithCopyWarning: \n",
      "A value is trying to be set on a copy of a slice from a DataFrame.\n",
      "Try using .loc[row_indexer,col_indexer] = value instead\n",
      "\n",
      "See the caveats in the documentation: https://pandas.pydata.org/pandas-docs/stable/user_guide/indexing.html#returning-a-view-versus-a-copy\n",
      "  x1[num_col_] = scaler.fit_transform(x1[num_col_])\n"
     ]
    },
    {
     "data": {
      "text/html": [
       "<div>\n",
       "<style scoped>\n",
       "    .dataframe tbody tr th:only-of-type {\n",
       "        vertical-align: middle;\n",
       "    }\n",
       "\n",
       "    .dataframe tbody tr th {\n",
       "        vertical-align: top;\n",
       "    }\n",
       "\n",
       "    .dataframe thead th {\n",
       "        text-align: right;\n",
       "    }\n",
       "</style>\n",
       "<table border=\"1\" class=\"dataframe\">\n",
       "  <thead>\n",
       "    <tr style=\"text-align: right;\">\n",
       "      <th></th>\n",
       "      <th>Pclass</th>\n",
       "      <th>Sex</th>\n",
       "      <th>Age</th>\n",
       "      <th>SibSp</th>\n",
       "      <th>Parch</th>\n",
       "      <th>Fare</th>\n",
       "      <th>Embarked</th>\n",
       "    </tr>\n",
       "  </thead>\n",
       "  <tbody>\n",
       "    <tr>\n",
       "      <th>0</th>\n",
       "      <td>1.0</td>\n",
       "      <td>male</td>\n",
       "      <td>0.271174</td>\n",
       "      <td>0.125</td>\n",
       "      <td>0.0</td>\n",
       "      <td>0.014151</td>\n",
       "      <td>S</td>\n",
       "    </tr>\n",
       "    <tr>\n",
       "      <th>1</th>\n",
       "      <td>0.0</td>\n",
       "      <td>female</td>\n",
       "      <td>0.472229</td>\n",
       "      <td>0.125</td>\n",
       "      <td>0.0</td>\n",
       "      <td>0.139136</td>\n",
       "      <td>C</td>\n",
       "    </tr>\n",
       "    <tr>\n",
       "      <th>2</th>\n",
       "      <td>1.0</td>\n",
       "      <td>female</td>\n",
       "      <td>0.321438</td>\n",
       "      <td>0.000</td>\n",
       "      <td>0.0</td>\n",
       "      <td>0.015469</td>\n",
       "      <td>S</td>\n",
       "    </tr>\n",
       "    <tr>\n",
       "      <th>3</th>\n",
       "      <td>0.0</td>\n",
       "      <td>female</td>\n",
       "      <td>0.434531</td>\n",
       "      <td>0.125</td>\n",
       "      <td>0.0</td>\n",
       "      <td>0.103644</td>\n",
       "      <td>S</td>\n",
       "    </tr>\n",
       "    <tr>\n",
       "      <th>4</th>\n",
       "      <td>1.0</td>\n",
       "      <td>male</td>\n",
       "      <td>0.434531</td>\n",
       "      <td>0.000</td>\n",
       "      <td>0.0</td>\n",
       "      <td>0.015713</td>\n",
       "      <td>S</td>\n",
       "    </tr>\n",
       "  </tbody>\n",
       "</table>\n",
       "</div>"
      ],
      "text/plain": [
       "   Pclass     Sex       Age  SibSp  Parch      Fare Embarked\n",
       "0     1.0    male  0.271174  0.125    0.0  0.014151        S\n",
       "1     0.0  female  0.472229  0.125    0.0  0.139136        C\n",
       "2     1.0  female  0.321438  0.000    0.0  0.015469        S\n",
       "3     0.0  female  0.434531  0.125    0.0  0.103644        S\n",
       "4     1.0    male  0.434531  0.000    0.0  0.015713        S"
      ]
     },
     "execution_count": 14,
     "metadata": {},
     "output_type": "execute_result"
    }
   ],
   "source": [
    "from sklearn.preprocessing import MinMaxScaler\n",
    "\n",
    "# initialising the MinMaxScaler\n",
    "scaler = MinMaxScaler(feature_range=(0, 1))\n",
    "\n",
    "# Numerical columns\n",
    "num_col_ = [col for col in X.columns if X[col].dtype != 'object']\n",
    "x1 = X\n",
    "# learning the statistical parameters for each of the data and transforming\n",
    "x1[num_col_] = scaler.fit_transform(x1[num_col_])\n",
    "x1.head()"
   ]
  },
  {
   "cell_type": "markdown",
   "id": "289fded3",
   "metadata": {
    "papermill": {
     "duration": 0.006422,
     "end_time": "2024-12-22T16:48:15.560454",
     "exception": false,
     "start_time": "2024-12-22T16:48:15.554032",
     "status": "completed"
    },
    "tags": []
   },
   "source": [
    "## Standardization (Z-score scaling): \n",
    "Standardization transforms the values to have a mean of 0 and a standard deviation of 1. It centers the data around the mean and scales it based on the standard deviation. Standardization makes the data more suitable for algorithms that assume a Gaussian distribution or require features to have zero mean and unit variance.\n",
    "\n",
    "$$ Z = \\frac{X - \\mu}{\\sigma} $$<br>\n",
    "\n",
    "\n",
    "Where,\n",
    "\n",
    "- X = Data\n",
    "- μ = Mean value of X\n",
    "- σ = Standard deviation of X\n",
    "\n",
    "## Data Cleansing Tools\n",
    "Some data cleansing tools:\n",
    "\n",
    "- OpenRefine\n",
    "- Trifacta Wrangler \n",
    "- TIBCO Clarity\n",
    "- Cloudingo\n",
    "- IBM Infosphere Quality Stage\n",
    "\n",
    "## Advantages of Data Cleaning in Machine Learning:\n",
    "- **Improved model performance:** Removal of errors, inconsistencies, and irrelevant data, helps the model to better learn from the data.\n",
    "Increased accuracy: Helps ensure that the data is accurate, consistent, and free of errors.\n",
    "- **Better representation of the data:** Data cleaning allows the data to be transformed into a format that better represents the underlying relationships and patterns in the data.\n",
    "- **Improved data quality:** Improve the quality of the data, making it more reliable and accurate.\n",
    "- **Improved data security:** Helps to identify and remove sensitive or confidential information that could compromise data security.\n",
    "\n",
    "## Disadvantages of Data Cleaning in Machine Learning\n",
    "- **Time-consuming:** Time-Consuming task, especially for large and complex datasets.\n",
    "- **Error-prone:** Data cleaning can be error-prone, as it involves transforming and cleaning the data, which can result in the loss of important information or the introduction of new errors.\n",
    "- **Cost and resource-intensive:** Resource-intensive process that requires significant time, effort, and expertise. It can also require the use of specialized software tools, which can add to the cost and complexity of data cleaning.\n",
    "- **Overfitting:** Data cleaning can inadvertently contribute to overfitting by removing too much data.\n",
    "- **Conclusion**\n",
    "    - So, we have discussed four different steps in data cleaning to make the data more reliable and to produce good results. After properly completing the Data Cleaning steps, we’ll have a robust dataset that avoids many of the most common pitfalls. In summary, data cleaning is a crucial step in the data science pipeline that involves identifying and correcting errors, inconsistencies, and inaccuracies in the data to improve its quality and usability."
   ]
  }
 ],
 "metadata": {
  "kaggle": {
   "accelerator": "none",
   "dataSources": [
    {
     "datasetId": 1264723,
     "sourceId": 2361242,
     "sourceType": "datasetVersion"
    }
   ],
   "dockerImageVersionId": 30822,
   "isGpuEnabled": false,
   "isInternetEnabled": true,
   "language": "python",
   "sourceType": "notebook"
  },
  "kernelspec": {
   "display_name": "Python 3",
   "language": "python",
   "name": "python3"
  },
  "language_info": {
   "codemirror_mode": {
    "name": "ipython",
    "version": 3
   },
   "file_extension": ".py",
   "mimetype": "text/x-python",
   "name": "python",
   "nbconvert_exporter": "python",
   "pygments_lexer": "ipython3",
   "version": "3.10.12"
  },
  "papermill": {
   "default_parameters": {},
   "duration": 5.035596,
   "end_time": "2024-12-22T16:48:16.085837",
   "environment_variables": {},
   "exception": null,
   "input_path": "__notebook__.ipynb",
   "output_path": "__notebook__.ipynb",
   "parameters": {},
   "start_time": "2024-12-22T16:48:11.050241",
   "version": "2.6.0"
  }
 },
 "nbformat": 4,
 "nbformat_minor": 5
}
